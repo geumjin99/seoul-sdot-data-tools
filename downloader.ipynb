{
 "cells": [
  {
   "cell_type": "code",
   "execution_count": 3,
   "id": "7192e45f-e74a-41eb-b8e6-1b74c8caad00",
   "metadata": {},
   "outputs": [
    {
     "name": "stdout",
     "output_type": "stream",
     "text": [
      "Found 83 CSV download links\n",
      "Downloading: S-DoT_NATURE_2023.12.25-12.31.csv\n",
      "Detected encoding from first file: EUC-KR\n",
      "✅ S-DoT_NATURE_2023.12.25-12.31.csv converted to UTF-8\n",
      "🎯 All selected files downloaded and converted to UTF-8\n"
     ]
    }
   ],
   "source": [
    "from selenium import webdriver\n",
    "from selenium.webdriver.common.by import By\n",
    "from selenium.webdriver.chrome.service import Service\n",
    "from selenium.webdriver.common.action_chains import ActionChains\n",
    "from selenium.webdriver.chrome.options import Options\n",
    "from webdriver_manager.chrome import ChromeDriverManager\n",
    "import time\n",
    "import os\n",
    "import chardet\n",
    "from pathlib import Path\n",
    "\n",
    "# ===== Configure Chrome =====\n",
    "download_path = \"/Users/jinzhenhan/Downloads\"  # Download directory\n",
    "chrome_options = Options()\n",
    "chrome_options.add_argument(\"--start-maximized\")  \n",
    "chrome_options.add_experimental_option(\"prefs\", {\n",
    "    \"download.default_directory\": download_path,\n",
    "    \"download.prompt_for_download\": False,\n",
    "    \"directory_upgrade\": True\n",
    "})\n",
    "\n",
    "driver = webdriver.Chrome(service=Service(ChromeDriverManager().install()), options=chrome_options)\n",
    "\n",
    "try:\n",
    "    # ===== Open the target page =====\n",
    "    driver.get(\"https://data.seoul.go.kr/dataList/OA-15969/S/1/datasetView.do#\")\n",
    "    time.sleep(2)\n",
    "\n",
    "    # ===== Click '전체 파일보기' (Show All Files) =====\n",
    "    show_all_files_btn = driver.find_element(By.XPATH, \"//span[text()='전체 파일보기']\")\n",
    "    show_all_files_btn.click()\n",
    "    time.sleep(2)\n",
    "\n",
    "    # ===== Retrieve all CSV download links =====\n",
    "    all_links = driver.find_elements(By.XPATH, \"//a[contains(@title, '.csv')]\")\n",
    "    print(f\"Found {len(all_links)} CSV download links\")\n",
    "\n",
    "    # ===== Filter by target years and download =====\n",
    "    target_years = [\"2023\"]   # Target years to download\n",
    "    detected_encoding = None  # Store detected encoding from the first file\n",
    "\n",
    "    for link in all_links:\n",
    "        title = link.get_attribute(\"title\")\n",
    "        if title and any(year in title for year in target_years):\n",
    "            print(f\"Downloading: {title}\")\n",
    "            ActionChains(driver).move_to_element(link).click().perform()\n",
    "            time.sleep(2)  # Wait for the download to start\n",
    "            \n",
    "            # ===== Wait until the file is fully downloaded =====\n",
    "            expected_file = Path(download_path) / title\n",
    "            while not expected_file.exists() or str(expected_file).endswith(\".crdownload\"):\n",
    "                time.sleep(1)\n",
    "            \n",
    "            # ===== Detect encoding from the first file (read only first few KB) =====\n",
    "            if detected_encoding is None:\n",
    "                with open(expected_file, \"rb\") as f:\n",
    "                    raw_data = f.read(4096)  # Read only the first 4 KB\n",
    "                    detected_encoding = chardet.detect(raw_data)[\"encoding\"]\n",
    "                print(f\"Detected encoding from first file: {detected_encoding}\")\n",
    "            \n",
    "            # ===== Convert to UTF-8 using detected encoding =====\n",
    "            with open(expected_file, \"r\", encoding=detected_encoding, errors=\"ignore\") as f:\n",
    "                content = f.read()\n",
    "            with open(expected_file, \"w\", encoding=\"utf-8\") as f:\n",
    "                f.write(content)\n",
    "            print(f\"✅ {title} converted to UTF-8\")\n",
    "\n",
    "    print(\"🎯 All selected files downloaded and converted to UTF-8\")\n",
    "\n",
    "finally:\n",
    "    driver.quit()"
   ]
  },
  {
   "cell_type": "code",
   "execution_count": null,
   "id": "f8e162f0-2f56-4939-b609-6b4ccd42838e",
   "metadata": {},
   "outputs": [],
   "source": []
  }
 ],
 "metadata": {
  "kernelspec": {
   "display_name": "Python (pm_stats)",
   "language": "python",
   "name": "pm_stats"
  },
  "language_info": {
   "codemirror_mode": {
    "name": "ipython",
    "version": 3
   },
   "file_extension": ".py",
   "mimetype": "text/x-python",
   "name": "python",
   "nbconvert_exporter": "python",
   "pygments_lexer": "ipython3",
   "version": "3.9.6"
  }
 },
 "nbformat": 4,
 "nbformat_minor": 5
}
